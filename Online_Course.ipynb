{
  "nbformat": 4,
  "nbformat_minor": 0,
  "metadata": {
    "colab": {
      "provenance": [],
      "gpuType": "T4",
      "include_colab_link": true
    },
    "kernelspec": {
      "name": "python3",
      "display_name": "Python 3"
    },
    "language_info": {
      "name": "python"
    },
    "accelerator": "GPU"
  },
  "cells": [
    {
      "cell_type": "markdown",
      "metadata": {
        "id": "view-in-github",
        "colab_type": "text"
      },
      "source": [
        "<a href=\"https://colab.research.google.com/github/angelica1412/Recomendation-Online-Course/blob/main/Online_Course.ipynb\" target=\"_parent\"><img src=\"https://colab.research.google.com/assets/colab-badge.svg\" alt=\"Open In Colab\"/></a>"
      ]
    },
    {
      "cell_type": "code",
      "execution_count": null,
      "metadata": {
        "colab": {
          "base_uri": "https://localhost:8080/"
        },
        "id": "FuRkPwVVxjmw",
        "outputId": "68d5c5fc-e729-4326-f1f6-543769cd0212"
      },
      "outputs": [
        {
          "output_type": "stream",
          "name": "stdout",
          "text": [
            "Drive already mounted at /content/drive; to attempt to forcibly remount, call drive.mount(\"/content/drive\", force_remount=True).\n",
            "Alison: ['category', 'certificate', 'description', 'difficulty', 'duration', 'image_url', 'price', 'scrape_date', 'title', 'url']\n",
            "Coursera: ['kategori_id', 'kategori_name', 'courses_id', 'courses_bahasa', 'courses_title', 'courses_description', 'courses_level', 'courses_harga', 'courses_url', 'courses_image', 'courses_deskripsi', 'courses_rating', 'courses_reviews', 'courses_durasi', 'courses_tags']\n",
            "Udemy: ['kategori_id', 'kategori_name', 'courses_id', 'courses_bahasa', 'courses_title', 'courses_description', 'courses_level', 'courses_harga', 'courses_url', 'courses_image', 'courses_deskripsi', 'courses_subscribers', 'courses_rating', 'courses_reviews', 'courses_durasi', 'courses_tags']\n"
          ]
        }
      ],
      "source": [
        "import pandas as pd\n",
        "import numpy as np\n",
        "import csv\n",
        "import re\n",
        "from sklearn.feature_extraction.text import TfidfVectorizer\n",
        "from sklearn.metrics.pairwise import linear_kernel\n",
        "from google.colab import drive\n",
        "from sklearn.metrics.pairwise import cosine_similarity\n",
        "from sklearn.preprocessing import MinMaxScaler\n",
        "from sklearn.compose import ColumnTransformer\n",
        "from sklearn.preprocessing import StandardScaler\n",
        "\n",
        "drive.mount(\"/content/drive\")\n",
        "\n",
        "\n",
        "base_path = '/content/drive/My Drive/Big Data/'\n",
        "\n",
        "\n",
        "# Load datasets (skip bad lines & use proper quoting)\n",
        "alison = pd.read_csv(base_path + 'alison_courses.csv', quoting=csv.QUOTE_MINIMAL, on_bad_lines='skip')\n",
        "coursera = pd.read_csv(base_path + 'coursera_courses.csv', quoting=csv.QUOTE_MINIMAL, on_bad_lines='skip', sep=';')\n",
        "udemy = pd.read_csv(base_path + 'udemy_courses.csv', quoting=csv.QUOTE_MINIMAL, on_bad_lines='skip', sep=';')\n",
        "\n",
        "# Lihat header dari masing-masing file\n",
        "print(\"Alison:\", alison.columns.tolist())\n",
        "print(\"Coursera:\", coursera.columns.tolist())\n",
        "print(\"Udemy:\", udemy.columns.tolist())"
      ]
    },
    {
      "cell_type": "code",
      "source": [
        "alison_normalized = pd.DataFrame({\n",
        "    'title': alison['title'],\n",
        "    'description': alison['description'],\n",
        "    'price': alison['price'],\n",
        "    'level': alison['difficulty'],\n",
        "    'language': 'English',\n",
        "    'duration': alison['duration'],\n",
        "    'url': alison['url'],\n",
        "    'platform': 'alison'\n",
        "})\n",
        "print (\"\\n Alison\")\n",
        "print(alison_normalized.head())\n",
        "print(\"Jumlah data Alison :\", len(alison_normalized))\n",
        "\n",
        "coursera_normalized = pd.DataFrame({\n",
        "    'title': coursera['courses_title'],\n",
        "    'description': coursera['courses_description'],\n",
        "    'price': coursera['courses_harga'],\n",
        "    'level': coursera['courses_level'],\n",
        "    'language': coursera['courses_bahasa'],\n",
        "    'duration': coursera['courses_durasi'],\n",
        "    'url': coursera['courses_url'],\n",
        "    'platform': 'coursera'\n",
        "})\n",
        "print (\"\\n Coursera\")\n",
        "print(coursera_normalized.head())\n",
        "print(\"Jumlah data Coursera :\", len(coursera_normalized))\n",
        "\n",
        "udemy_normalized = pd.DataFrame({\n",
        "    'title': udemy['courses_title'],\n",
        "    'description': udemy['courses_deskripsi'],\n",
        "    'price': udemy['courses_harga'],\n",
        "    'level': udemy['courses_level'],\n",
        "    'language': udemy['courses_bahasa'],\n",
        "    'duration': udemy['courses_durasi'],\n",
        "    'url': udemy['courses_url'],\n",
        "    'platform': 'udemy'\n",
        "})\n",
        "print (\"\\n Udemy\")\n",
        "print(udemy_normalized.head())\n",
        "print(\"Jumlah data Udemy :\", len(udemy_normalized))\n",
        "\n",
        "# Hitung baris yang punya minimal 1 NaN per dataset\n",
        "print(\"Jumlah baris mengandung NaN per dataset:\")\n",
        "print(\"Alison   :\", alison_normalized.isna().any(axis=1).sum())\n",
        "print(\"Coursera :\", coursera_normalized.isna().any(axis=1).sum())\n",
        "print(\"Udemy    :\", udemy_normalized.isna().any(axis=1).sum())"
      ],
      "metadata": {
        "id": "HGFZkRHr9kAX",
        "colab": {
          "base_uri": "https://localhost:8080/"
        },
        "outputId": "98d4ac76-8174-4597-807b-6f5ba8d35184"
      },
      "execution_count": null,
      "outputs": [
        {
          "output_type": "stream",
          "name": "stdout",
          "text": [
            "\n",
            " Alison\n",
            "                                               title  \\\n",
            "0  ISO/IEC 27001 - Dynamics of Information Securi...   \n",
            "1                           CompTIA A+ 1000 - Part 2   \n",
            "2  Diploma in ISO 27001:2022 - Information Securi...   \n",
            "3                          Empower Yourself For Free   \n",
            "4  ISO 20000 - Principles of IT Service Managemen...   \n",
            "\n",
            "                                         description price  \\\n",
            "0  This free online course on ISO 27001 explains ...  Free   \n",
            "1  This free online CompTIA A+ course will teach ...  Free   \n",
            "2  Master the intricacies of information security...  Free   \n",
            "3  This free online CompTIA A+ course will teach ...  Free   \n",
            "4  This free online ISO/IEC 20000 course explains...  Free   \n",
            "\n",
            "                level language          duration  \\\n",
            "0      BEGINNER LEVEL  English    3-4\\nAvg Hours   \n",
            "1  INTERMEDIATE LEVEL  English   6-10\\nAvg Hours   \n",
            "2  INTERMEDIATE LEVEL  English  10-15\\nAvg Hours   \n",
            "3  INTERMEDIATE LEVEL  English               NaN   \n",
            "4      BEGINNER LEVEL  English  1.5-3\\nAvg Hours   \n",
            "\n",
            "                                                 url platform  \n",
            "0  https://alison.com/course/iso-iec-27001-dynami...   alison  \n",
            "1    https://alison.com/course/comptia-a-1000-part-2   alison  \n",
            "2  https://alison.com/course/diploma-in-iso-27001...   alison  \n",
            "3  https://alison.com/course/comptia-a-1000-part-...   alison  \n",
            "4  https://alison.com/course/iso-20000-principles...   alison  \n",
            "Jumlah data Alison : 183\n",
            "\n",
            " Coursera\n",
            "                                               title  \\\n",
            "0                             Adobe Graphic Designer   \n",
            "1                              Adobe Content Creator   \n",
            "2  Photography Basics and Beyond: From Smartphone...   \n",
            "3  Effective Communication: Writing, Design, and ...   \n",
            "4             Modern and Contemporary Art and Design   \n",
            "\n",
            "                                         description                    price  \\\n",
            "0  Learn to create anything you can imagine as yo...  $59.00 USD - $49.00 USD   \n",
            "1  This Professional Certificate is designed to e...  $59.00 USD - $49.00 USD   \n",
            "2  Whether your camera is a Smartphone or DSLR, a...  $59.00 USD - $49.00 USD   \n",
            "3  Over seventy companies and tens of thousands o...  $59.00 USD - $49.00 USD   \n",
            "4  Explore the art of our time through four of Mo...  $59.00 USD - $39.00 USD   \n",
            "\n",
            "      level                                           language  duration  \\\n",
            "0  BEGINNER  EN - AR - FR - ZH-CN - IT - PT-BR - NL - KO - ...  10 HOURS   \n",
            "1  BEGINNER  EN - AR - FR - ZH-CN - IT - PT-BR - NL - KO - ...  10 HOURS   \n",
            "2  BEGINNER  EN - AR - FR - BN - UK - ZH-CN - EL - IT - PT-...   3 HOURS   \n",
            "3  BEGINNER  EN - AR - FR - BN - UK - ZH-CN - EL - IT - PT-...  12 HOURS   \n",
            "4  BEGINNER  EN - AR - FR - BN - UK - ZH-CN - EL - IT - PT-...   2 HOURS   \n",
            "\n",
            "                                                 url  platform  \n",
            "0  https://coursera.org/professional-certificates...  coursera  \n",
            "1  https://coursera.org/professional-certificates...  coursera  \n",
            "2  https://coursera.org/specializations/photograp...  coursera  \n",
            "3  https://coursera.org/specializations/effective...  coursera  \n",
            "4  https://coursera.org/specializations/modern-co...  coursera  \n",
            "Jumlah data Coursera : 187\n",
            "\n",
            " Udemy\n",
            "                                               title  \\\n",
            "0  The Complete Python Bootcamp From Zero to Hero...   \n",
            "1   The Complete Full-Stack Web Development Bootcamp   \n",
            "2  100 Days of Code: The Complete Python Pro Boot...   \n",
            "3                    The Web Developer Bootcamp 2025   \n",
            "4  React - The Complete Guide 2025 (incl. Next.js...   \n",
            "\n",
            "                                         description   price       level  \\\n",
            "0  Learn Python like a Professional  Start from t...  599000  All Levels   \n",
            "1  Become a Full-Stack Web Developer with just ON...  669000  All Levels   \n",
            "2  Master Python by building 100 projects in 100 ...  669000  All Levels   \n",
            "3  With 10 Hours of React added. Become a Develop...  649000  All Levels   \n",
            "4  Dive in and learn React.js from scratch! Learn...  669000  All Levels   \n",
            "\n",
            "                                            language    duration  \\\n",
            "0  English [Auto] - Arabic [Auto] - Bulgarian [Au...    22 hours   \n",
            "1  English - Arabic [Auto] - Bulgarian [Auto] - C...  61.5 hours   \n",
            "2  English - Arabic [Auto] - Bulgarian [Auto] - C...  56.5 hours   \n",
            "3  English [Auto] - Arabic [Auto] - Dutch [Auto] ...    74 hours   \n",
            "4  Английский [CC] - Арабский язык [авто] - Индон...  71.5 hours   \n",
            "\n",
            "                                                 url platform  \n",
            "0  https://www.udemy.com/course/complete-python-b...    udemy  \n",
            "1  https://www.udemy.com/course/the-complete-web-...    udemy  \n",
            "2     https://www.udemy.com/course/100-days-of-code/    udemy  \n",
            "3  https://www.udemy.com/course/the-web-developer...    udemy  \n",
            "4  https://www.udemy.com/course/react-the-complet...    udemy  \n",
            "Jumlah data Udemy : 9963\n",
            "Jumlah baris mengandung NaN per dataset:\n",
            "Alison   : 4\n",
            "Coursera : 0\n",
            "Udemy    : 4\n"
          ]
        }
      ]
    },
    {
      "cell_type": "code",
      "source": [
        "df = pd.concat([alison_normalized, coursera_normalized, udemy_normalized], ignore_index=True)\n",
        "\n",
        "print(df.head())"
      ],
      "metadata": {
        "id": "Ax5NrXy0E97J",
        "colab": {
          "base_uri": "https://localhost:8080/"
        },
        "outputId": "b5ae6091-919a-4943-b214-9344f03c8b4a"
      },
      "execution_count": null,
      "outputs": [
        {
          "output_type": "stream",
          "name": "stdout",
          "text": [
            "                                               title  \\\n",
            "0  ISO/IEC 27001 - Dynamics of Information Securi...   \n",
            "1                           CompTIA A+ 1000 - Part 2   \n",
            "2  Diploma in ISO 27001:2022 - Information Securi...   \n",
            "3                          Empower Yourself For Free   \n",
            "4  ISO 20000 - Principles of IT Service Managemen...   \n",
            "\n",
            "                                         description price  \\\n",
            "0  This free online course on ISO 27001 explains ...  Free   \n",
            "1  This free online CompTIA A+ course will teach ...  Free   \n",
            "2  Master the intricacies of information security...  Free   \n",
            "3  This free online CompTIA A+ course will teach ...  Free   \n",
            "4  This free online ISO/IEC 20000 course explains...  Free   \n",
            "\n",
            "                level language          duration  \\\n",
            "0      BEGINNER LEVEL  English    3-4\\nAvg Hours   \n",
            "1  INTERMEDIATE LEVEL  English   6-10\\nAvg Hours   \n",
            "2  INTERMEDIATE LEVEL  English  10-15\\nAvg Hours   \n",
            "3  INTERMEDIATE LEVEL  English               NaN   \n",
            "4      BEGINNER LEVEL  English  1.5-3\\nAvg Hours   \n",
            "\n",
            "                                                 url platform  \n",
            "0  https://alison.com/course/iso-iec-27001-dynami...   alison  \n",
            "1    https://alison.com/course/comptia-a-1000-part-2   alison  \n",
            "2  https://alison.com/course/diploma-in-iso-27001...   alison  \n",
            "3  https://alison.com/course/comptia-a-1000-part-...   alison  \n",
            "4  https://alison.com/course/iso-20000-principles...   alison  \n"
          ]
        }
      ]
    },
    {
      "cell_type": "code",
      "source": [
        "df.replace(['', ' ', 'nan', 'NaN', 'none', 'None', 'NONE'], np.nan, inplace=True)\n",
        "\n",
        "print(\"Jumlah total baris sebelum dropna:\", len(df))\n",
        "print(\"Jumlah baris yang akan dihapus karena ada NaN:\", df.isna().any(axis=1).sum())\n",
        "\n",
        "df.dropna(inplace=True)\n",
        "print(\"Jumlah total baris setelah dropna:\", len(df))"
      ],
      "metadata": {
        "id": "6KA7DlQuYY37",
        "colab": {
          "base_uri": "https://localhost:8080/"
        },
        "outputId": "ad3b0c50-4d20-4844-f90f-32e00b5a777d"
      },
      "execution_count": null,
      "outputs": [
        {
          "output_type": "stream",
          "name": "stdout",
          "text": [
            "Jumlah total baris sebelum dropna: 10333\n",
            "Jumlah baris yang akan dihapus karena ada NaN: 8\n",
            "Jumlah total baris setelah dropna: 10325\n"
          ]
        }
      ]
    },
    {
      "cell_type": "code",
      "source": [
        "# Level Category\n",
        "# Bersihkan tanda baca dari semua kolom teks\n",
        "def remove_punctuation(text):\n",
        "    return re.sub(r'[^\\w\\s]', '', str(text))\n",
        "\n",
        "for col in ['title', 'description', 'level', 'language']:\n",
        "    df[col] = df[col].apply(remove_punctuation)\n",
        "\n",
        "# Bersihkan teks (lowercase semua kolom string)\n",
        "text_cols = ['title', 'description', 'level', 'language', 'duration']\n",
        "for col in text_cols:\n",
        "    df[col] = df[col].astype(str).str.lower().str.strip()\n",
        "\n",
        "# Bersihkan kolom level (hapus kata 'level')\n",
        "df['level'] = df['level'].str.replace('level', '').str.strip()\n",
        "\n",
        "# Mapping level jadi angka\n",
        "def level_map(text):\n",
        "    text = str(text).lower()\n",
        "    if 'all s' in text:\n",
        "        return 1\n",
        "    elif 'beginner' in text:\n",
        "        return 2\n",
        "    elif 'intermediate' in text:\n",
        "        return 3\n",
        "    elif 'advanced' in text:\n",
        "        return 4\n",
        "    elif 'expert' in text:\n",
        "        return 5\n",
        "    else:\n",
        "        return None  # atau bisa return 0 jika ingin tetap menyimpan\n",
        "\n",
        "df['level'] = df['level'].map(level_map)\n",
        "df = df[df['level'].notna()]\n",
        "df['level'] = df['level'].astype(int)"
      ],
      "metadata": {
        "id": "RJJRsrdj6lAs"
      },
      "execution_count": null,
      "outputs": []
    },
    {
      "cell_type": "code",
      "source": [
        "# Price Category\n",
        "def convert_to_rupiah(price):\n",
        "    try:\n",
        "        price = str(price).lower().strip()\n",
        "        if 'free' in price or price == '0':\n",
        "            return 0\n",
        "        if '$' in price:\n",
        "            val = int(price.replace('$', '').strip()) * 17000\n",
        "            return round(val)\n",
        "        return int(price.replace(',', '').replace('rp', '').strip())\n",
        "    except:\n",
        "        return np.nan\n",
        "\n",
        "df['price_rp'] = df['price'].apply(convert_to_rupiah)\n",
        "\n",
        "def get_price_category(price):\n",
        "    if price == 0:\n",
        "        return 1\n",
        "    elif price <= 250_000:\n",
        "        return 2\n",
        "    elif price <= 500_000:\n",
        "        return 3\n",
        "    elif price <= 750_000:\n",
        "        return 4\n",
        "    elif price <= 1_000_000:\n",
        "        return 5\n",
        "    else:\n",
        "        return 6\n",
        "\n",
        "df['price_cat'] = df['price_rp'].apply(get_price_category)\n",
        "print (df['price_rp'])\n",
        "print (df['price_cat'])"
      ],
      "metadata": {
        "id": "WxmIXfqcHhV0",
        "colab": {
          "base_uri": "https://localhost:8080/"
        },
        "outputId": "196e95fb-b665-4a01-b477-6cb2de7f296a"
      },
      "execution_count": null,
      "outputs": [
        {
          "output_type": "stream",
          "name": "stdout",
          "text": [
            "0             0.0\n",
            "1             0.0\n",
            "2             0.0\n",
            "4             0.0\n",
            "5             0.0\n",
            "           ...   \n",
            "10328    249000.0\n",
            "10329    249000.0\n",
            "10330    419000.0\n",
            "10331    409000.0\n",
            "10332    249000.0\n",
            "Name: price_rp, Length: 10325, dtype: float64\n",
            "0        1\n",
            "1        1\n",
            "2        1\n",
            "4        1\n",
            "5        1\n",
            "        ..\n",
            "10328    2\n",
            "10329    2\n",
            "10330    3\n",
            "10331    3\n",
            "10332    2\n",
            "Name: price_cat, Length: 10325, dtype: int64\n"
          ]
        }
      ]
    },
    {
      "cell_type": "code",
      "source": [
        "# Language Category\n",
        "def language_category(lang):\n",
        "    if 'indonesian' in str(lang).lower() or 'id' in str(lang).lower():\n",
        "        return 1\n",
        "    elif 'english' in str(lang).lower() or 'en' in str(lang).lower():\n",
        "        return 2\n",
        "    return 3\n",
        "\n",
        "df['language_cat'] = df['language'].apply(language_category)"
      ],
      "metadata": {
        "id": "2R078kB-Hkv7"
      },
      "execution_count": null,
      "outputs": []
    },
    {
      "cell_type": "code",
      "source": [
        "# Duration Category\n",
        "def clean_duration_text(text):\n",
        "    if not isinstance(text, str):\n",
        "        return text\n",
        "    # Hapus kata-kata pengganggu\n",
        "    text = text.lower()\n",
        "    text = re.sub(r'\\b(avg|average|on average)\\b', '', text)\n",
        "    text = re.sub(r'hours?|hrs?|menit|minutes?', '', text)\n",
        "    text = re.sub(r'[\\(\\)]', '', text)\n",
        "    text = re.sub(r'[\\s]+', ' ', text).strip()\n",
        "    return text\n",
        "\n",
        "df['duration'] = df['duration'].apply(clean_duration_text)\n",
        "\n",
        "def extract_hours(duration_str):\n",
        "    match = re.findall(r'([\\d.]+)', duration_str)\n",
        "    if len(match) == 1:\n",
        "        return float(match[0])\n",
        "    elif len(match) == 2:\n",
        "        return (float(match[0]) + float(match[1])) / 2\n",
        "    return 0\n",
        "\n",
        "def duration_category(hours):\n",
        "    if hours < 1:\n",
        "        return 1\n",
        "    elif hours <= 3:\n",
        "        return 2\n",
        "    elif hours <= 10:\n",
        "        return 3\n",
        "    elif hours <= 25:\n",
        "        return 4\n",
        "    else:\n",
        "        return 5\n",
        "\n",
        "df['duration_hours'] = df['duration'].apply(extract_hours)\n",
        "df['duration_cat'] = df['duration_hours'].apply(duration_category)\n",
        "print(df)"
      ],
      "metadata": {
        "id": "Uc7rKhMKHqKn",
        "colab": {
          "base_uri": "https://localhost:8080/"
        },
        "outputId": "ff58f381-d085-4044-c0e1-0ca26b409f3c"
      },
      "execution_count": null,
      "outputs": [
        {
          "output_type": "stream",
          "name": "stdout",
          "text": [
            "                                                   title  \\\n",
            "0      isoiec 27001  dynamics of information security...   \n",
            "1                                 comptia a 1000  part 2   \n",
            "2      diploma in iso 270012022  information security...   \n",
            "4      iso 20000  principles of it service management...   \n",
            "5                                 comptia a 1000  part 1   \n",
            "...                                                  ...   \n",
            "10328                   cloudnative applications in java   \n",
            "10329  mastering leetcode with easiest explaination j...   \n",
            "10330  nextjs react nextauth serverless api fullstack...   \n",
            "10331  top 50 dynamic programming java algorithms cod...   \n",
            "10332      ajax  for beginners a very basic introduction   \n",
            "\n",
            "                                             description   price  level  \\\n",
            "0      this free online course on iso 27001 explains ...    Free      2   \n",
            "1      this free online comptia a course will teach y...    Free      3   \n",
            "2      master the intricacies of information security...    Free      3   \n",
            "4      this free online isoiec 20000 course explains ...    Free      2   \n",
            "5      this course is the first part of an industryre...    Free      2   \n",
            "...                                                  ...     ...    ...   \n",
            "10328  build highly scalable microservicebased applic...  249000      2   \n",
            "10329  learn how to solve leetcode problems using chr...  249000      2   \n",
            "10330  with pdf booklet learn to build next generatio...  419000      1   \n",
            "10331  solve the top 50 dynamic programming java algo...  409000      1   \n",
            "10332  learn the very basics of ajax from writing syn...  249000      2   \n",
            "\n",
            "                language duration  \\\n",
            "0                english      3-4   \n",
            "1                english     6-10   \n",
            "2                english    10-15   \n",
            "4                english    1.5-3   \n",
            "5                english     6-10   \n",
            "...                  ...      ...   \n",
            "10328       english auto       14   \n",
            "10329  inglés automático      3.5   \n",
            "10330       english auto      6.5   \n",
            "10331       english auto       18   \n",
            "10332       english auto        2   \n",
            "\n",
            "                                                     url platform  price_rp  \\\n",
            "0      https://alison.com/course/iso-iec-27001-dynami...   alison       0.0   \n",
            "1        https://alison.com/course/comptia-a-1000-part-2   alison       0.0   \n",
            "2      https://alison.com/course/diploma-in-iso-27001...   alison       0.0   \n",
            "4      https://alison.com/course/iso-20000-principles...   alison       0.0   \n",
            "5        https://alison.com/course/comptia-a-1000-part-1   alison       0.0   \n",
            "...                                                  ...      ...       ...   \n",
            "10328  https://www.udemy.com/course/cloud-native-appl...    udemy  249000.0   \n",
            "10329  https://www.udemy.com/course/learn-leetcode-wi...    udemy  249000.0   \n",
            "10330  https://www.udemy.com/course/nextjs-nextauth-n...    udemy  419000.0   \n",
            "10331  https://www.udemy.com/course/top-50-dynamic-pr...    udemy  409000.0   \n",
            "10332  https://www.udemy.com/course/ajax-for-beginner...    udemy  249000.0   \n",
            "\n",
            "       price_cat  language_cat  duration_hours  duration_cat  \n",
            "0              1             2            3.50             3  \n",
            "1              1             2            8.00             3  \n",
            "2              1             2           12.50             4  \n",
            "4              1             2            2.25             2  \n",
            "5              1             2            8.00             3  \n",
            "...          ...           ...             ...           ...  \n",
            "10328          2             2           14.00             4  \n",
            "10329          2             3            3.50             3  \n",
            "10330          3             2            6.50             3  \n",
            "10331          3             2           18.00             4  \n",
            "10332          2             2            2.00             2  \n",
            "\n",
            "[10325 rows x 13 columns]\n"
          ]
        }
      ]
    },
    {
      "cell_type": "code",
      "source": [
        "import matplotlib.pyplot as plt\n",
        "import seaborn as sns\n",
        "\n",
        "plt.figure(figsize=(8, 5))\n",
        "sns.countplot(data=df, x='platform', order=df['platform'].value_counts().index)\n",
        "plt.xticks(rotation=45)\n",
        "plt.title('Jumlah Kursus per Platform')\n",
        "plt.xlabel('Platform')\n",
        "plt.ylabel('Jumlah Kursus')\n",
        "plt.tight_layout()\n",
        "plt.show()\n"
      ],
      "metadata": {
        "id": "Z9e617l52t93",
        "colab": {
          "base_uri": "https://localhost:8080/",
          "height": 507
        },
        "outputId": "c1e4d33d-d195-4361-8887-b30f9878289f"
      },
      "execution_count": null,
      "outputs": [
        {
          "output_type": "display_data",
          "data": {
            "text/plain": [
              "<Figure size 800x500 with 1 Axes>"
            ],
            "image/png": "[encoded data removed]"
          },
          "metadata": {}
        }
      ]
    },
    {
      "cell_type": "code",
      "source": [
        "plt.figure(figsize=(8, 5))\n",
        "sns.countplot(data=df, x='price_cat', order=df['price_cat'].value_counts().index)\n",
        "plt.title('Jumlah Kursus Berdasarkan Kategori Harga')\n",
        "plt.xlabel('Kategori Harga')\n",
        "plt.ylabel('Jumlah Kursus')\n",
        "plt.show()"
      ],
      "metadata": {
        "id": "IUrkf5DR2v-P",
        "colab": {
          "base_uri": "https://localhost:8080/",
          "height": 487
        },
        "outputId": "86ff7b06-4dab-4d69-d938-082a3504b77b"
      },
      "execution_count": null,
      "outputs": [
        {
          "output_type": "display_data",
          "data": {
            "text/plain": [
              "<Figure size 800x500 with 1 Axes>"
            ],
            "image/png": "[encoded data removed]"
          },
          "metadata": {}
        }
      ]
    },
    {
      "cell_type": "code",
      "source": [
        "plt.figure(figsize=(8, 5))\n",
        "sns.countplot(data=df, x='level', order=df['level'].value_counts().index)\n",
        "plt.title('Jumlah Kursus per Level')\n",
        "plt.xlabel('Level')\n",
        "plt.ylabel('Jumlah Kursus')\n",
        "plt.show()"
      ],
      "metadata": {
        "id": "dRO9Hq5r2zxZ",
        "colab": {
          "base_uri": "https://localhost:8080/",
          "height": 487
        },
        "outputId": "b65ae174-0e3f-48c2-ccf2-4d3166f841b3"
      },
      "execution_count": null,
      "outputs": [
        {
          "output_type": "display_data",
          "data": {
            "text/plain": [
              "<Figure size 800x500 with 1 Axes>"
            ],
            "image/png": "[encoded data removed]"
          },
          "metadata": {}
        }
      ]
    },
    {
      "cell_type": "code",
      "source": [
        "plt.figure(figsize=(8, 5))\n",
        "sns.countplot(data=df, x='language_cat', order=df['language_cat'].value_counts().index)\n",
        "plt.title('Jumlah Kursus berdasarkan Bahasa')\n",
        "plt.xlabel('Bahasa')\n",
        "plt.ylabel('Jumlah Kursus')\n",
        "plt.show()\n"
      ],
      "metadata": {
        "id": "ZZ9173VY26TV",
        "colab": {
          "base_uri": "https://localhost:8080/",
          "height": 487
        },
        "outputId": "de6f6f61-87e1-4b1e-99af-aa242099af58"
      },
      "execution_count": null,
      "outputs": [
        {
          "output_type": "display_data",
          "data": {
            "text/plain": [
              "<Figure size 800x500 with 1 Axes>"
            ],
            "image/png": "[encoded data removed]"
          },
          "metadata": {}
        }
      ]
    },
    {
      "cell_type": "code",
      "source": [
        "plt.figure(figsize=(8, 5))\n",
        "sns.countplot(data=df, x='duration_cat', order=df['duration_cat'].value_counts().index)\n",
        "plt.title('Jumlah Kursus berdasarkan Durasi')\n",
        "plt.xlabel('Durasi')\n",
        "plt.ylabel('Jumlah Kursus')\n",
        "plt.show()"
      ],
      "metadata": {
        "id": "WwRFlJ0128Sx",
        "colab": {
          "base_uri": "https://localhost:8080/",
          "height": 487
        },
        "outputId": "48406d1b-1146-4b06-d7aa-30cceeb8382b"
      },
      "execution_count": null,
      "outputs": [
        {
          "output_type": "display_data",
          "data": {
            "text/plain": [
              "<Figure size 800x500 with 1 Axes>"
            ],
            "image/png": "[encoded data removed]"
          },
          "metadata": {}
        }
      ]
    },
    {
      "cell_type": "code",
      "source": [
        "# Map level angka ke teks\n",
        "level_map_text = {1: 'all', 2: 'beginner', 3: 'intermediate', 4: 'advanced', 5: 'expert'}\n",
        "df['level_text'] = df['level'].map(level_map_text)\n",
        "\n",
        "# Map language_cat\n",
        "language_map_text = {1: 'indonesian', 2: 'english', 3: 'other'}\n",
        "df['language_text'] = df['language_cat'].map(language_map_text)\n",
        "\n",
        "# Map price_cat\n",
        "price_map_text = {\n",
        "    1: 'free', 2: '1-250.000', 3: '250.001-500.000', 4: '500.001-750.000', 5: '750.001-1.000.000', 6: '>1.000.000',\n",
        "}\n",
        "df['price_text'] = df['price_cat'].map(price_map_text)\n",
        "\n",
        "# Map duration_cat\n",
        "duration_map_text = {\n",
        "    1: '0-1 hours', 2: '1-3 hours', 3: '3-10 hours', 4: '10-25 hours', 5: '>25 hours'\n",
        "}\n",
        "df['duration_text'] = df['duration_cat'].map(duration_map_text)\n",
        "\n",
        "# Gabungkan fitur teks untuk keyword matching\n",
        "df['content_text'] = (\n",
        "    df['title'] + ' ' +\n",
        "    df['description']\n",
        ")\n",
        "\n",
        "# Gabungkan semua fitur untuk similarity umum\n",
        "df['all_features_text'] = (\n",
        "    df['content_text'] + ' ' +\n",
        "    df['level_text'] + ' ' +\n",
        "    df['language_text'] + ' ' +\n",
        "    df['price_text'] + ' ' +\n",
        "    df['duration_text']\n",
        ")\n",
        "\n",
        "\n",
        "# TF-IDF untuk konten (keyword) keyword yang meliputi judul dan deskripsi diprioritaskan\n",
        "tfidf_content = TfidfVectorizer(\n",
        "    ngram_range=(1, 2),\n",
        "    stop_words='english',\n",
        "    max_features=3000,\n",
        "    min_df=1\n",
        ")\n",
        "X_content = tfidf_content.fit_transform(df['content_text'])\n",
        "\n",
        "# TF-IDF untuk semua fitur\n",
        "tfidf_all = TfidfVectorizer(\n",
        "    ngram_range=(1, 2),\n",
        "    stop_words='english',\n",
        "    max_features=2000,\n",
        "    min_df=1\n",
        ")\n",
        "X_all_features = tfidf_all.fit_transform(df['all_features_text'])\n",
        "\n",
        "print(\"Content TF-IDF shape:\", X_content.shape)\n",
        "print(\"All features TF-IDF shape:\", X_all_features.shape)"
      ],
      "metadata": {
        "id": "_LMolzWLoOvc",
        "colab": {
          "base_uri": "https://localhost:8080/"
        },
        "outputId": "c39fd42c-9a9a-4098-d66d-7bd2a20c8717"
      },
      "execution_count": null,
      "outputs": [
        {
          "output_type": "stream",
          "name": "stdout",
          "text": [
            "Content TF-IDF shape: (10325, 3000)\n",
            "All features TF-IDF shape: (10325, 2000)\n"
          ]
        }
      ]
    },
    {
      "cell_type": "code",
      "source": [
        "def recommend_courses_similarity(df, X_content, X_all_features, tfidf_content, tfidf_all,\n",
        "                                keyword, target_level=None, target_language=None,\n",
        "                                target_price_range=None, target_duration=None,\n",
        "                                top_n=5, keyword_weight=0.6): #keyword weight untuk mengatur seberapa berpengaruh keyword dibanding fitur lainnya\n",
        "\n",
        "    # 1. Hitung similarity berdasarkan keyword (prioritas tinggi)\n",
        "    keyword_vector = tfidf_content.transform([keyword])\n",
        "    content_similarities = cosine_similarity(keyword_vector, X_content).flatten()\n",
        "\n",
        "    # 2. Buat query untuk fitur lain\n",
        "    query_features = []\n",
        "\n",
        "    # Level\n",
        "    if target_level is not None:\n",
        "        level_text = level_map_text.get(target_level, '')\n",
        "        query_features.append(level_text)\n",
        "\n",
        "    # Language\n",
        "    if target_language is not None:\n",
        "        language_text = language_map_text.get(target_language, '')\n",
        "        query_features.append(language_text)\n",
        "\n",
        "    # Price\n",
        "    if target_price_range is not None:\n",
        "        price_text = price_map_text.get(target_price_range, '')\n",
        "        query_features.append(price_text)\n",
        "\n",
        "    # Duration\n",
        "    if target_duration is not None:\n",
        "        duration_text = duration_map_text.get(target_duration, '')\n",
        "        query_features.append(duration_text)\n",
        "\n",
        "    # Gabungkan query untuk semua fitur\n",
        "    full_query = keyword + ' ' + ' '.join(query_features)\n",
        "\n",
        "    # 3. Hitung similarity untuk semua fitur\n",
        "    all_features_vector = tfidf_all.transform([full_query])\n",
        "    all_features_similarities = cosine_similarity(all_features_vector, X_all_features).flatten()\n",
        "\n",
        "    # 4. Gabungkan similarity dengan bobot\n",
        "    # Keyword mendapat prioritas lebih tinggi\n",
        "    final_similarities = (keyword_weight * content_similarities +\n",
        "                         (1 - keyword_weight) * all_features_similarities)\n",
        "\n",
        "    # 7. Ambil top N\n",
        "    top_indices = final_similarities.argsort()[::-1][:top_n]\n",
        "\n",
        "    # 8. Buat hasil rekomendasi\n",
        "    result = df.iloc[top_indices].copy()\n",
        "    result = result[['title', 'platform', 'price_rp', 'level_text', 'language_text',\n",
        "                    'price_text', 'duration_text', 'url']].reset_index(drop=True)\n",
        "\n",
        "    # Tambahkan skor similarity\n",
        "    result['content_similarity'] = content_similarities[top_indices]\n",
        "    result['features_similarity'] = all_features_similarities[top_indices]\n",
        "\n",
        "    return result"
      ],
      "metadata": {
        "id": "GO8IPnFFtZiP"
      },
      "execution_count": null,
      "outputs": []
    },
    {
      "cell_type": "code",
      "source": [
        "def evaluate_recommendation_advanced(result_df, keyword, target_features=None):\n",
        "    if result_df.empty:\n",
        "        return \"Tidak ada rekomendasi untuk dievaluasi.\"\n",
        "\n",
        "    keyword = keyword.lower()\n",
        "\n",
        "    # Evaluasi relevansi keyword\n",
        "    keyword_relevan = 0\n",
        "    for idx, row in result_df.iterrows():\n",
        "        title_lower = str(row['title']).lower()\n",
        "        if keyword in title_lower:\n",
        "            keyword_relevan += 1\n",
        "\n",
        "    keyword_precision = keyword_relevan / len(result_df) if len(result_df) > 0 else 0\n",
        "\n",
        "    # Evaluasi kecocokan fitur target\n",
        "    feature_matches = 0\n",
        "    if target_features:\n",
        "        for idx, row in result_df.iterrows():\n",
        "            matches = 0\n",
        "            total_features = 0\n",
        "\n",
        "            if 'level' in target_features:\n",
        "                total_features += 1\n",
        "                if target_features['level'] in str(row['level_text']).lower():\n",
        "                    matches += 1\n",
        "\n",
        "            if 'language' in target_features:\n",
        "                total_features += 1\n",
        "                if target_features['language'] in str(row['language_text']).lower():\n",
        "                    matches += 1\n",
        "\n",
        "            if total_features > 0:\n",
        "                feature_matches += matches / total_features\n",
        "\n",
        "        feature_precision = feature_matches / len(result_df) if len(result_df) > 0 else 0\n",
        "    else:\n",
        "        feature_precision = 0\n",
        "\n",
        "    return {\n",
        "        'keyword_precision': keyword_precision,\n",
        "        'feature_precision': feature_precision,\n",
        "        'keyword_relevan_count': keyword_relevan,\n",
        "        'total_recommended': len(result_df),\n",
        "        'avg_content_similarity': result_df['content_similarity'].mean(),\n",
        "    }"
      ],
      "metadata": {
        "id": "aqZP7AEEApyc"
      },
      "execution_count": null,
      "outputs": []
    },
    {
      "cell_type": "code",
      "source": [
        "print(\"\\n=== SISTEM REKOMENDASI BERBASIS SIMILARITY ===\")\n",
        "\n",
        "result1 = recommend_courses_similarity(\n",
        "    df=df,\n",
        "    X_content=X_content,\n",
        "    X_all_features=X_all_features,\n",
        "    tfidf_content=tfidf_content,\n",
        "    tfidf_all=tfidf_all,\n",
        "    keyword='Python',\n",
        "    target_level=2,  # beginner\n",
        "    target_language=2,  # english\n",
        "    target_price_range=2,  # 1-250.000\n",
        "    target_duration=2,  # 1-3 hours\n",
        "    top_n=5,\n",
        "    keyword_weight=0.60  # 60% untuk keyword, 40% untuk fitur lain\n",
        ")\n",
        "\n",
        "print(result1[['title', 'platform', 'level_text', 'language_text', 'price_text',\n",
        "              'duration_text', 'content_similarity', 'features_similarity', 'url']].to_string())\n",
        "\n",
        "# Evaluasi\n",
        "eval_result1 = evaluate_recommendation_advanced(\n",
        "    result1,\n",
        "    'Python',\n",
        "    target_features={'level': 'beginner', 'language': 'english'}\n",
        ")\n",
        "print(f\"\\nEvaluasi:\")\n",
        "print(f\"Keyword Precision: {eval_result1['keyword_precision']:.2f}\")\n",
        "print(f\"Feature Precision: {eval_result1['feature_precision']:.2f}\")\n",
        "print(f\"Avg Content Similarity: {eval_result1['avg_content_similarity']:.3f}\")"
      ],
      "metadata": {
        "colab": {
          "base_uri": "https://localhost:8080/"
        },
        "id": "68tr9ZJAol5Q",
        "outputId": "2e288216-c741-4dac-dc6e-0d3ffee3a785"
      },
      "execution_count": null,
      "outputs": [
        {
          "output_type": "stream",
          "name": "stdout",
          "text": [
            "\n",
            "=== SISTEM REKOMENDASI BERBASIS SIMILARITY ===\n",
            "                                                        title platform level_text language_text       price_text duration_text  content_similarity  features_similarity                                                                                      url\n",
            "0                     python for astronomers and astrophysics    udemy   beginner         other        1-250.000     1-3 hours            1.000000             0.505626                                      https://www.udemy.com/course/python-for-astronomer/\n",
            "1                                    core python for everyone    udemy   beginner       english  250.001-500.000    3-10 hours            0.580440             0.611904                                   https://www.udemy.com/course/core-python-for-everyone/\n",
            "2                                       python for biologists    udemy   beginner         other        1-250.000    3-10 hours            0.527009             0.666636                                      https://www.udemy.com/course/python-for-biologists/\n",
            "3   learning python from beginner to advanced complete course    udemy   beginner       english        1-250.000   10-25 hours            0.509023             0.548763  https://www.udemy.com/course/learning-python-from-beginner-to-advanced-complete-course/\n",
            "4  python bootcampreplit python programming beginner tutorial    udemy   beginner       english        1-250.000    3-10 hours            0.652429             0.333237                                  https://www.udemy.com/course/python-programming-replit/\n",
            "\n",
            "Evaluasi:\n",
            "Keyword Precision: 1.00\n",
            "Feature Precision: 0.80\n",
            "Avg Content Similarity: 0.654\n"
          ]
        }
      ]
    },
    {
      "cell_type": "code",
      "source": [
        "print(\"\\n=== Testing 1 ===\")\n",
        "\n",
        "result1 = recommend_courses_similarity(\n",
        "    df=df,\n",
        "    X_content=X_content,\n",
        "    X_all_features=X_all_features,\n",
        "    tfidf_content=tfidf_content,\n",
        "    tfidf_all=tfidf_all,\n",
        "    keyword='React',\n",
        "    target_level=2,  # beginner\n",
        "    target_language=2,  # english\n",
        "    target_price_range=1,  # free\n",
        "    target_duration=2,  # 1-3 hours\n",
        "    top_n=5,\n",
        "    keyword_weight=0.60  # 60% untuk keyword, 40% untuk fitur lain\n",
        ")\n",
        "\n",
        "print(result1[['title', 'platform', 'level_text', 'language_text', 'price_text',\n",
        "              'duration_text', 'content_similarity', 'features_similarity', 'url']].to_string())\n",
        "\n",
        "# Evaluasi\n",
        "eval_result1 = evaluate_recommendation_advanced(\n",
        "    result1,\n",
        "    'React',\n",
        "    target_features={'level': 'beginner', 'language': 'english'}\n",
        ")\n",
        "print(f\"\\nEvaluasi:\")\n",
        "print(f\"Keyword Precision: {eval_result1['keyword_precision']:.2f}\")\n",
        "print(f\"Feature Precision: {eval_result1['feature_precision']:.2f}\")\n",
        "print(f\"Avg Content Similarity: {eval_result1['avg_content_similarity']:.3f}\")"
      ],
      "metadata": {
        "id": "0vxiLna7Supd",
        "colab": {
          "base_uri": "https://localhost:8080/"
        },
        "outputId": "741bc94b-82fc-4775-f5de-6b289116b7bf"
      },
      "execution_count": null,
      "outputs": [
        {
          "output_type": "stream",
          "name": "stdout",
          "text": [
            "\n",
            "=== Testing 1 ===\n",
            "                                                        title platform    level_text language_text       price_text duration_text  content_similarity  features_similarity                                                                                      url\n",
            "0                                           react three fiber    udemy      beginner         other  250.001-500.000    3-10 hours            0.761652             0.395327                                          https://www.udemy.com/course/react-three-fiber/\n",
            "1  react responsive portfolio website  complete react project    udemy           all       english        1-250.000    3-10 hours            0.693070             0.412298  https://www.udemy.com/course/react-responsive-portfolio-website-complete-react-project/\n",
            "2  handson react build advanced react js frontend with expert    udemy  intermediate       english  250.001-500.000   10-25 hours            0.649347             0.376384                                           https://www.udemy.com/course/hands-on-reactjs/\n",
            "3      complete react 18 course 2025    react js for beginner    udemy           all       english        1-250.000     1-3 hours            0.615787             0.379748                                      https://www.udemy.com/course/react-js-for-beginner/\n",
            "4          react hook form the complete guide with react 2025    udemy           all         other             free    3-10 hours            0.628140             0.357865           https://www.udemy.com/course/react-hook-form-the-complete-guide-with-react-js/\n",
            "\n",
            "Evaluasi:\n",
            "Keyword Precision: 1.00\n",
            "Feature Precision: 0.40\n",
            "Avg Content Similarity: 0.670\n"
          ]
        }
      ]
    },
    {
      "cell_type": "code",
      "source": [
        "print(\"\\n=== Testing 2 ===\")\n",
        "\n",
        "result1 = recommend_courses_similarity(\n",
        "    df=df,\n",
        "    X_content=X_content,\n",
        "    X_all_features=X_all_features,\n",
        "    tfidf_content=tfidf_content,\n",
        "    tfidf_all=tfidf_all,\n",
        "    keyword='Finance',\n",
        "    target_level=2,  # beginner\n",
        "    target_language=2,  # english\n",
        "    target_price_range=1,  # free\n",
        "    target_duration=3,  # 3-10 hours\n",
        "    top_n=5,\n",
        "    keyword_weight=0.60  # 60% untuk keyword, 40% untuk fitur lain\n",
        ")\n",
        "\n",
        "print(result1[['title', 'platform', 'level_text', 'language_text', 'price_text',\n",
        "              'duration_text', 'content_similarity', 'features_similarity', 'url']].to_string())\n",
        "\n",
        "# Evaluasi\n",
        "eval_result1 = evaluate_recommendation_advanced(\n",
        "    result1,\n",
        "    'Finance',\n",
        "    target_features={'level': 'beginner', 'language': 'english'}\n",
        ")\n",
        "print(f\"\\nEvaluasi:\")\n",
        "print(f\"Keyword Precision: {eval_result1['keyword_precision']:.2f}\")\n",
        "print(f\"Feature Precision: {eval_result1['feature_precision']:.2f}\")\n",
        "print(f\"Avg Content Similarity: {eval_result1['avg_content_similarity']:.3f}\")"
      ],
      "metadata": {
        "colab": {
          "base_uri": "https://localhost:8080/"
        },
        "id": "WcNyv1rGniM5",
        "outputId": "076306fe-85e4-425c-f58e-133e0f11b60e"
      },
      "execution_count": null,
      "outputs": [
        {
          "output_type": "stream",
          "name": "stdout",
          "text": [
            "\n",
            "=== Testing 2 ===\n",
            "                                                      title  platform    level_text language_text       price_text duration_text  content_similarity  features_similarity                                                              url\n",
            "0                                handson python for finance     udemy  intermediate       english             free    3-10 hours            0.685441             0.668341        https://www.udemy.com/course/hands-on-python-for-finance/\n",
            "1          decentralized finance defi the future of finance  coursera  intermediate    indonesian       >1.000.000     1-3 hours            0.711281             0.532015  https://coursera.org/specializations/decentralized-finance-duke\n",
            "2  mb500 dynamics 365 finance and operations apps developer     udemy           all       english  250.001-500.000    3-10 hours            0.555809             0.472373                  https://www.udemy.com/course/mb-500-d365fnodev/\n",
            "3        foundational finance for strategic decision making  coursera      beginner    indonesian       >1.000.000     1-3 hours            0.535695             0.405256        https://coursera.org/specializations/foundational-finance\n",
            "4                                  c and financial modeling     udemy           all       english        1-250.000    3-10 hours            0.488470             0.397880     https://www.udemy.com/course/c-sharp-and-financial-modeling/\n",
            "\n",
            "Evaluasi:\n",
            "Keyword Precision: 0.80\n",
            "Feature Precision: 0.40\n",
            "Avg Content Similarity: 0.595\n"
          ]
        }
      ]
    },
    {
      "cell_type": "code",
      "source": [
        "print(\"\\n=== Testing 3 ===\")\n",
        "\n",
        "result1 = recommend_courses_similarity(\n",
        "    df=df,\n",
        "    X_content=X_content,\n",
        "    X_all_features=X_all_features,\n",
        "    tfidf_content=tfidf_content,\n",
        "    tfidf_all=tfidf_all,\n",
        "    keyword='Git',\n",
        "    target_level=3,  # intermediate\n",
        "    target_language=3,  # indonesian\n",
        "    target_price_range=1,  # free\n",
        "    target_duration=1,  # 0-1 hours\n",
        "    top_n=5,\n",
        "    keyword_weight=0.60  # 60% untuk keyword, 40% untuk fitur lain\n",
        ")\n",
        "\n",
        "print(result1[['title', 'platform', 'level_text', 'language_text', 'price_text',\n",
        "              'duration_text', 'content_similarity', 'features_similarity', 'url']].to_string())\n",
        "\n",
        "# Evaluasi\n",
        "eval_result1 = evaluate_recommendation_advanced(\n",
        "    result1,\n",
        "    'Git',\n",
        "    target_features={'level': 'intermediate', 'language': 'indonesian'}\n",
        ")\n",
        "print(f\"\\nEvaluasi:\")\n",
        "print(f\"Keyword Precision: {eval_result1['keyword_precision']:.2f}\")\n",
        "print(f\"Feature Precision: {eval_result1['feature_precision']:.2f}\")\n",
        "print(f\"Avg Content Similarity: {eval_result1['avg_content_similarity']:.3f}\")"
      ],
      "metadata": {
        "colab": {
          "base_uri": "https://localhost:8080/"
        },
        "id": "IXbAfdVUnwCh",
        "outputId": "8b0ca827-9a02-45d0-d929-03b52116c7f1"
      },
      "execution_count": null,
      "outputs": [
        {
          "output_type": "stream",
          "name": "stdout",
          "text": [
            "\n",
            "=== Testing 3 ===\n",
            "                                                   title platform    level_text language_text       price_text duration_text  content_similarity  features_similarity                                                                    url\n",
            "0                                 overcoming fear of git    udemy  intermediate       english        1-250.000     1-3 hours            0.776813             0.449983                   https://www.udemy.com/course/overcoming-fear-of-git/\n",
            "1        git for geeks quick git training for developers    udemy  intermediate       english        1-250.000    3-10 hours            0.747934             0.444065                            https://www.udemy.com/course/git-for-geeks/\n",
            "2            git essentials for beginners 3 courses in 1    udemy      beginner       english        1-250.000    3-10 hours            0.754417             0.392863  https://www.udemy.com/course/mastering-git-for-beginners-and-experts/\n",
            "3    git complete the definitive stepbystep guide to git    udemy           all    indonesian  250.001-500.000    3-10 hours            0.719683             0.380296                             https://www.udemy.com/course/git-complete/\n",
            "4  git  github for beginners  master git and github 2025    udemy      beginner       english             free    3-10 hours            0.706953             0.398015              https://www.udemy.com/course/git-and-github-crash-course/\n",
            "\n",
            "Evaluasi:\n",
            "Keyword Precision: 1.00\n",
            "Feature Precision: 0.30\n",
            "Avg Content Similarity: 0.741\n"
          ]
        }
      ]
    },
    {
      "cell_type": "code",
      "source": [
        "print(\"\\n=== Testing 4 ===\")\n",
        "\n",
        "result1 = recommend_courses_similarity(\n",
        "    df=df,\n",
        "    X_content=X_content,\n",
        "    X_all_features=X_all_features,\n",
        "    tfidf_content=tfidf_content,\n",
        "    tfidf_all=tfidf_all,\n",
        "    keyword='JavaScript',\n",
        "    target_level=3,  # intermediate\n",
        "    target_language=2,  # english\n",
        "    target_price_range=2,  # 1-250.000\n",
        "    target_duration=2,  # 1-3 hours\n",
        "    top_n=5,\n",
        "    keyword_weight=0.60  # 60% untuk keyword, 40% untuk fitur lain\n",
        ")\n",
        "\n",
        "print(result1[['title', 'platform', 'level_text', 'language_text', 'price_text',\n",
        "              'duration_text', 'content_similarity', 'features_similarity', 'url']].to_string())\n",
        "\n",
        "# Evaluasi\n",
        "eval_result1 = evaluate_recommendation_advanced(\n",
        "    result1,\n",
        "    'JavaScript',\n",
        "    target_features={'level': 'intermediate', 'language': 'english'}\n",
        ")\n",
        "print(f\"\\nEvaluasi:\")\n",
        "print(f\"Keyword Precision: {eval_result1['keyword_precision']:.2f}\")\n",
        "print(f\"Feature Precision: {eval_result1['feature_precision']:.2f}\")\n",
        "print(f\"Avg Content Similarity: {eval_result1['avg_content_similarity']:.3f}\")"
      ],
      "metadata": {
        "colab": {
          "base_uri": "https://localhost:8080/"
        },
        "id": "WcQGBKpsoCAi",
        "outputId": "9891d366-3ecc-4312-8985-e0130efe1004"
      },
      "execution_count": null,
      "outputs": [
        {
          "output_type": "stream",
          "name": "stdout",
          "text": [
            "\n",
            "=== Testing 4 ===\n",
            "                                                  title platform    level_text language_text price_text duration_text  content_similarity  features_similarity                                                                                  url\n",
            "0  javascript intermediate level 2  all about functions    udemy  intermediate       english  1-250.000     1-3 hours            0.394095             0.750907            https://www.udemy.com/course/javascript-intermediate-mastering-functions/\n",
            "1         javascript for coders learn oop in javascript    udemy  intermediate       english  1-250.000   10-25 hours            0.521272             0.545530  https://www.udemy.com/course/advance-javascript-for-coders-learn-oop-in-javascript/\n",
            "2                     javascript for absolute beginners    udemy      beginner       english  1-250.000     1-3 hours            0.667289             0.313941                      https://www.udemy.com/course/javascript-for-absolute-beginners/\n",
            "3             the javascript bible  javascript bootcamp    udemy           all       english       free     >25 hours            0.702075             0.245614                                       https://www.udemy.com/course/javascript-bible/\n",
            "4                                 javascript algorithms    udemy      beginner         other  1-250.000    3-10 hours            0.679136             0.274581                                  https://www.udemy.com/course/javascript-algorithms/\n",
            "\n",
            "Evaluasi:\n",
            "Keyword Precision: 1.00\n",
            "Feature Precision: 0.60\n",
            "Avg Content Similarity: 0.593\n"
          ]
        }
      ]
    },
    {
      "cell_type": "code",
      "source": [
        "print(\"\\n=== Testing 5 ===\")\n",
        "\n",
        "result1 = recommend_courses_similarity(\n",
        "    df=df,\n",
        "    X_content=X_content,\n",
        "    X_all_features=X_all_features,\n",
        "    tfidf_content=tfidf_content,\n",
        "    tfidf_all=tfidf_all,\n",
        "    keyword='Laravel',\n",
        "    target_level=2,  # beginner\n",
        "    target_language=2,  # english\n",
        "    target_price_range=3,  # 1-250.000\n",
        "    target_duration=2,  #1-3 hours\n",
        "    top_n=5,\n",
        "    keyword_weight=0.60  # 60% untuk keyword, 40% untuk fitur lain\n",
        ")\n",
        "\n",
        "print(result1[['title', 'platform', 'level_text', 'language_text', 'price_text',\n",
        "              'duration_text', 'content_similarity', 'features_similarity', 'url']].to_string())\n",
        "\n",
        "# Evaluasi\n",
        "eval_result1 = evaluate_recommendation_advanced(\n",
        "    result1,\n",
        "    'Laravel',\n",
        "    target_features={'level': 'beginner', 'language': 'english'}\n",
        ")\n",
        "print(f\"\\nEvaluasi:\")\n",
        "print(f\"Keyword Precision: {eval_result1['keyword_precision']:.2f}\")\n",
        "print(f\"Feature Precision: {eval_result1['feature_precision']:.2f}\")\n",
        "print(f\"Avg Content Similarity: {eval_result1['avg_content_similarity']:.3f}\")"
      ],
      "metadata": {
        "colab": {
          "base_uri": "https://localhost:8080/"
        },
        "id": "RsusvllXoT2u",
        "outputId": "ee5a6068-6b42-4131-d6bf-00c7b69a4a7d"
      },
      "execution_count": null,
      "outputs": [
        {
          "output_type": "stream",
          "name": "stdout",
          "text": [
            "\n",
            "=== Testing 5 ===\n",
            "                                                         title platform level_text language_text       price_text duration_text  content_similarity  features_similarity                                                                                                 url\n",
            "0   master laravel  create highlevel applications with laravel    udemy        all       english  250.001-500.000   10-25 hours            0.867446             0.648643  https://www.udemy.com/course/php-with-laravel-create-advanced-applications-while-learning-laravel/\n",
            "1                 laravel 12 tutorial for beginners to advance    udemy   beginner       english  250.001-500.000    3-10 hours            0.678994             0.568248                          https://www.udemy.com/course/laravel-10-tutorial-for-beginners-to-advance/\n",
            "2              professional blogcms development with laravel 5    udemy        all         other  250.001-500.000   10-25 hours            0.698951             0.537732                                         https://www.udemy.com/course/build-blog-cms-with-laravel-5/\n",
            "3                          laravel jetstream b2b project setup    udemy        all       english        1-250.000     1-3 hours            0.703161             0.518434                                   https://www.udemy.com/course/laravel-jetstream-b2b-project-setup/\n",
            "4  laravel pizza ordering web application  deploy on cloudways    udemy   beginner         other  250.001-500.000    3-10 hours            0.657349             0.528662                   https://www.udemy.com/course/project-with-laravel-pizza-ordering-web-application/\n",
            "\n",
            "Evaluasi:\n",
            "Keyword Precision: 1.00\n",
            "Feature Precision: 0.50\n",
            "Avg Content Similarity: 0.721\n"
          ]
        }
      ]
    },
    {
      "cell_type": "code",
      "source": [],
      "metadata": {
        "id": "6anJrJckqBBI"
      },
      "execution_count": null,
      "outputs": []
    }
  ]
}